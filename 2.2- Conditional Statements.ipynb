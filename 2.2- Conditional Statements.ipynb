{
 "cells": [
  {
   "cell_type": "markdown",
   "id": "3a10df7a",
   "metadata": {
    "id": "3a10df7a"
   },
   "source": [
    "# Conditional Statements\n",
    "- Write solution of each question in the cell given below the corresponsing question."
   ]
  },
  {
   "cell_type": "markdown",
   "id": "60c2d89a",
   "metadata": {
    "id": "60c2d89a"
   },
   "source": [
    "#### 1. Take a list of numbers as input. Print whether the average is even or odd."
   ]
  },
  {
   "cell_type": "code",
   "execution_count": 6,
   "id": "0cef90db",
   "metadata": {},
   "outputs": [
    {
     "name": "stdout",
     "output_type": "stream",
     "text": [
      "Enter length of the list: 6\n",
      "1 Enter element: 21\n",
      "2 Enter element: 12\n",
      "3 Enter element: 56\n",
      "4 Enter element: 84\n",
      "5 Enter element: 13\n",
      "6 Enter element: 48\n",
      "Average is odd:  39\n"
     ]
    }
   ],
   "source": [
    "s=0    #to calculate sum\n",
    "l=int(input(\"Enter length of the list: \"))    #take length of the list from user\n",
    "for i in range(l):\n",
    "    print(i+1, end=\" \")                       #shows count of input\n",
    "    s+=int(input(\"Enter element: \"))          #input from user\n",
    "    \n",
    "num= int(s/l)                                 #average \n",
    "if num%2==0:                                  #check if remainder is 0 after dividing the number by 2\n",
    "    print(\"Average is Even: \", num)\n",
    "else:\n",
    "    print(\"Average is odd: \", num)"
   ]
  },
  {
   "cell_type": "code",
   "execution_count": null,
   "id": "585748fe",
   "metadata": {},
   "outputs": [],
   "source": []
  },
  {
   "cell_type": "markdown",
   "id": "4846bb19",
   "metadata": {
    "id": "4846bb19"
   },
   "source": [
    "#### 2. Take three strings as input. Calculate the number of words in each string and find out the list having highest number of words."
   ]
  },
  {
   "cell_type": "code",
   "execution_count": 4,
   "id": "pfGpZ9okCTfV",
   "metadata": {
    "id": "pfGpZ9okCTfV"
   },
   "outputs": [
    {
     "name": "stdout",
     "output_type": "stream",
     "text": [
      "1)"
     ]
    },
    {
     "name": "stdin",
     "output_type": "stream",
     "text": [
      "Enter a string:  hello, how are you\n"
     ]
    },
    {
     "name": "stdout",
     "output_type": "stream",
     "text": [
      "2)"
     ]
    },
    {
     "name": "stdin",
     "output_type": "stream",
     "text": [
      "Enter a string:  I am good thank you\n"
     ]
    },
    {
     "name": "stdout",
     "output_type": "stream",
     "text": [
      "3)"
     ]
    },
    {
     "name": "stdin",
     "output_type": "stream",
     "text": [
      "Enter a string:  and you?\n"
     ]
    },
    {
     "name": "stdout",
     "output_type": "stream",
     "text": [
      "List with highest number of words:\n",
      " ['I', 'am', 'good', 'thank', 'you'] \n",
      " and its length is  5\n"
     ]
    }
   ],
   "source": [
    "x=[]                       # to store input from users\n",
    "c=0                      # to store length of list having highest number of words \n",
    "for i in range (3):     \n",
    "    print(i+1, end=\")\")    \n",
    "    x.append(input(\"Enter a string: \").split())        # take input from user and store it as a nested list.\n",
    "    \n",
    "    if c<len(x[i]):       # \n",
    "        c=len(x[i])\n",
    "        big=i\n",
    "\n",
    "print(\"List with highest number of words:\\n\", x[big], \"\\n and its length is \", c)"
   ]
  },
  {
   "cell_type": "code",
   "execution_count": null,
   "id": "8e4b499b",
   "metadata": {},
   "outputs": [],
   "source": []
  },
  {
   "cell_type": "markdown",
   "id": "0e0d8196",
   "metadata": {
    "id": "0e0d8196"
   },
   "source": [
    "#### 3. Take four numbers as input in a single line. Find out the largest number."
   ]
  },
  {
   "cell_type": "code",
   "execution_count": 54,
   "id": "4dac5bd0",
   "metadata": {},
   "outputs": [
    {
     "name": "stdout",
     "output_type": "stream",
     "text": [
      "1) Enter a number: 94\n",
      "2) Enter a number: 335\n",
      "3) Enter a number: 48\n",
      "4) Enter a number: 56\n",
      "\n",
      "Largest number is  335\n"
     ]
    }
   ],
   "source": [
    "x=[]\n",
    "for i in range(4):\n",
    "    print(f\"{i+1}) Enter a number: \", end=\"\")\n",
    "    x.append(int(input()))\n",
    "    \n",
    "x= sorted(x)\n",
    "print(\"\\nLargest number is \", x[-1])"
   ]
  },
  {
   "cell_type": "code",
   "execution_count": 55,
   "id": "edf2adec",
   "metadata": {},
   "outputs": [
    {
     "data": {
      "text/plain": [
       "[48, 56, 94, 335]"
      ]
     },
     "execution_count": 55,
     "metadata": {},
     "output_type": "execute_result"
    }
   ],
   "source": [
    "x"
   ]
  },
  {
   "cell_type": "code",
   "execution_count": null,
   "id": "dfcea563",
   "metadata": {},
   "outputs": [],
   "source": []
  },
  {
   "cell_type": "markdown",
   "id": "16c0440a",
   "metadata": {
    "id": "16c0440a"
   },
   "source": [
    "#### 4. Take four numbers as input and find the second largest numer."
   ]
  },
  {
   "cell_type": "code",
   "execution_count": 56,
   "id": "RuBQfFAHWAlL",
   "metadata": {
    "id": "RuBQfFAHWAlL"
   },
   "outputs": [
    {
     "name": "stdout",
     "output_type": "stream",
     "text": [
      "1) Enter a number: 195\n",
      "2) Enter a number: 74\n",
      "3) Enter a number: 365\n",
      "4) Enter a number: 120\n",
      "\n",
      " Second largest number is  195\n"
     ]
    }
   ],
   "source": [
    "x=[]\n",
    "for i in range(4):\n",
    "    print(f\"{i+1}) Enter a number: \", end=\"\")\n",
    "    x.append(int(input()))\n",
    "    \n",
    "x= sorted(x)\n",
    "print(\"\\n Second largest number is \", x[-2])"
   ]
  },
  {
   "cell_type": "code",
   "execution_count": 57,
   "id": "4c5ef316",
   "metadata": {},
   "outputs": [
    {
     "data": {
      "text/plain": [
       "[74, 120, 195, 365]"
      ]
     },
     "execution_count": 57,
     "metadata": {},
     "output_type": "execute_result"
    }
   ],
   "source": [
    "x"
   ]
  },
  {
   "cell_type": "markdown",
   "id": "2f6641a4",
   "metadata": {
    "id": "2f6641a4"
   },
   "source": [
    "#### 5. Create a dictionary having three items. Key of each item is the name of a student, value associated with each key is a list of marks in five subjects. Given this dictionary print the top and lowest scorers."
   ]
  },
  {
   "cell_type": "code",
   "execution_count": 16,
   "id": "R5C1C61OYuls",
   "metadata": {
    "id": "R5C1C61OYuls"
   },
   "outputs": [
    {
     "name": "stdout",
     "output_type": "stream",
     "text": [
      "Tom got most marks:  388\n",
      "Jon got least marks:  329\n"
     ]
    }
   ],
   "source": [
    "students={'Tom':[89,98,45,67,89], 'Jon':[92,41,43,66,87], 'Bob':[67,53,89,89,34]}     \n",
    "x=[]\n",
    "for i in students:\n",
    "    x.append(sum(students[i]))\n",
    "\n",
    "x=sorted(x)\n",
    "for i in students:\n",
    "    if x[0]== sum(students[i]):\n",
    "        print(i,\"got least marks: \",sum(students[i]))\n",
    "        \n",
    "    elif x[-1]== sum(students[i]):\n",
    "        print(i,\"got most marks: \",sum(students[i]))\n"
   ]
  },
  {
   "cell_type": "markdown",
   "id": "64db0791",
   "metadata": {
    "id": "64db0791"
   },
   "source": [
    "#### 6. Create a dictionary (called data) of having at least 5 items : Usernames as keys and Passwords as values. Write a program that takes a username and a password as input. If the credentials match any iteam in the given dictionary data then print acces granted otherwise print whether username, password or both are wrong."
   ]
  },
  {
   "cell_type": "code",
   "execution_count": 22,
   "id": "ccb8e02d",
   "metadata": {},
   "outputs": [],
   "source": [
    "data= {\"aman\": \"Helloaman\", \"sahil\": \"Hellosahil\", \"sana\": \"Hellosana\", \"Nitin\": \"Hellonitin\", \"kajal\": \"Hellokajal\"}"
   ]
  },
  {
   "cell_type": "code",
   "execution_count": 25,
   "id": "60f6413e",
   "metadata": {},
   "outputs": [
    {
     "name": "stdout",
     "output_type": "stream",
     "text": [
      "Enter username: sana\n",
      "Enter password: Hellosana\n",
      "Access granted\n"
     ]
    }
   ],
   "source": [
    "id=input(\"Enter username: \")\n",
    "pas=input(\"Enter password: \")\n",
    "\n",
    "if id in data:\n",
    "    if (data[id] == pas):\n",
    "        print(\"Access granted\")\n",
    "        \n",
    "    else:\n",
    "        print(\"Wrong password\")\n",
    "        \n",
    "else:\n",
    "    print(\"Incorrect Username or Password or Both\")"
   ]
  },
  {
   "cell_type": "code",
   "execution_count": null,
   "id": "08a0cb8b",
   "metadata": {},
   "outputs": [],
   "source": []
  },
  {
   "cell_type": "code",
   "execution_count": 21,
   "id": "WtqLAvhiazaM",
   "metadata": {
    "id": "WtqLAvhiazaM"
   },
   "outputs": [
    {
     "name": "stdout",
     "output_type": "stream",
     "text": [
      "Enter username: wedwdef\n",
      "Wrong username, please enter a valid username.\n",
      "Press Y to continue or any other key to exit:y\n",
      "Enter username: scdcdc\n",
      "Wrong username, please enter a valid username.\n",
      "Press Y to continue or any other key to exit:f\n"
     ]
    }
   ],
   "source": [
    "# data= {\"aman\": \"Helloaman\", \"sahil\": \"Hellosahil\", \"sana\": \"Hellosana\", \"Nitin\": \"Hellonitin\", \"kajal\": \"Hellokajal\"}\n",
    "\n",
    "\n",
    "# while True:\n",
    "#     id=input(\"Enter username: \")\n",
    "#     if id in data :\n",
    "#         break\n",
    "#     else:\n",
    "#         print(\"Wrong username, please enter a valid username.\")\n",
    "#         ans=input(\"Press Y to continue or any other key to exit:\")\n",
    "#         ans= ans.capitalize()\n",
    "#         if ans!= 'Y':\n",
    "#             break\n",
    "\n"
   ]
  },
  {
   "cell_type": "code",
   "execution_count": null,
   "id": "8e36f165",
   "metadata": {},
   "outputs": [],
   "source": []
  },
  {
   "cell_type": "markdown",
   "id": "27c56bb8",
   "metadata": {
    "id": "27c56bb8"
   },
   "source": [
    "#### 7. Take a list as input in a single line containing 15 numbers as marks out of 100. The first five numbers in the list are marks of Tom, the middle 5 numbers are marks of Bob and the last 5 are the marks of Jon. Find out the top and lowest scorer."
   ]
  },
  {
   "cell_type": "code",
   "execution_count": 3,
   "id": "ah156U4T9iat",
   "metadata": {
    "id": "ah156U4T9iat"
   },
   "outputs": [
    {
     "name": "stdout",
     "output_type": "stream",
     "text": [
      "1 ) Enter marks: : 45\n",
      "2 ) Enter marks: : 65\n",
      "3 ) Enter marks: : 98\n",
      "4 ) Enter marks: : 32\n",
      "5 ) Enter marks: : 65\n",
      "6 ) Enter marks: : 32\n",
      "7 ) Enter marks: : 78\n",
      "8 ) Enter marks: : 47\n",
      "9 ) Enter marks: : 69\n",
      "10 ) Enter marks: : 45\n",
      "11 ) Enter marks: : 36\n",
      "12 ) Enter marks: : 58\n",
      "13 ) Enter marks: : 52\n",
      "14 ) Enter marks: : 39\n",
      "15 ) Enter marks: : 74\n"
     ]
    }
   ],
   "source": [
    "m=[]\n",
    "for i in range(15):\n",
    "    print(i+1, \") Enter marks: \", end=\": \")\n",
    "    m.append(int(input()))"
   ]
  },
  {
   "cell_type": "code",
   "execution_count": 21,
   "id": "96ad2efc",
   "metadata": {},
   "outputs": [
    {
     "name": "stdout",
     "output_type": "stream",
     "text": [
      "Top scorer is Tom and his\\her marks is 305\n",
      "Top scorer is Jon and his\\her marks is 259\n"
     ]
    }
   ],
   "source": [
    "total=dict()\n",
    "total['Tom']= sum(m[0:5])\n",
    "total['Bob']= sum(m[5:10])\n",
    "total['Jon']= sum(m[10:])\n",
    "    \n",
    "big=max(total.values())\n",
    "small=min(total.values())\n",
    "\n",
    "b=[i for i in total if total[i]==big]\n",
    "s=[i for i in total if total[i]==small]\n",
    "\n",
    "print(\"Top scorer is\", b[0], \"and his\\her marks is\", big)\n",
    "print(\"Top scorer is\", s[0], \"and his\\her marks is\", small)"
   ]
  },
  {
   "cell_type": "code",
   "execution_count": 23,
   "id": "75df110e",
   "metadata": {},
   "outputs": [
    {
     "name": "stdout",
     "output_type": "stream",
     "text": [
      "dict_values([305, 271, 259])\n"
     ]
    }
   ],
   "source": [
    "print(total.values())"
   ]
  },
  {
   "cell_type": "code",
   "execution_count": null,
   "id": "1b037299",
   "metadata": {},
   "outputs": [],
   "source": []
  },
  {
   "cell_type": "markdown",
   "id": "20f59542",
   "metadata": {
    "id": "20f59542"
   },
   "source": [
    "#### 8. Take a number as input and print whether the number is a multiple of 3,5 or both."
   ]
  },
  {
   "cell_type": "code",
   "execution_count": 1,
   "id": "5d9e1772",
   "metadata": {},
   "outputs": [
    {
     "name": "stdout",
     "output_type": "stream",
     "text": [
      "Enter a number: 15\n"
     ]
    }
   ],
   "source": [
    "num= int(input(\"Enter a number: \"))"
   ]
  },
  {
   "cell_type": "code",
   "execution_count": 2,
   "id": "3f53795d",
   "metadata": {},
   "outputs": [
    {
     "name": "stdout",
     "output_type": "stream",
     "text": [
      "Number is divisible by both 3 and 5.\n",
      "\n"
     ]
    }
   ],
   "source": [
    "if num%3==0 and num%5==0:\n",
    "    print(\"Number is divisible by both 3 and 5.\")\n",
    "\n",
    "elif num%3==0:\n",
    "    print(\"Number is divisible by 3.\")\n",
    "    \n",
    "elif num%5==0:\n",
    "    print(\"Number is divisible by 5.\")\n",
    "\n",
    "else:\n",
    "    print(\"Number is neither divisible by 3 or 5\")"
   ]
  },
  {
   "cell_type": "code",
   "execution_count": null,
   "id": "otWg3MXaYing",
   "metadata": {
    "id": "otWg3MXaYing"
   },
   "outputs": [],
   "source": []
  },
  {
   "cell_type": "markdown",
   "id": "b770e791",
   "metadata": {
    "id": "b770e791"
   },
   "source": [
    "#### 9. Write a program to take three strings as input and print the string having second largest number of words."
   ]
  },
  {
   "cell_type": "code",
   "execution_count": 18,
   "id": "BIaLOJ6eEvGO",
   "metadata": {
    "id": "BIaLOJ6eEvGO"
   },
   "outputs": [
    {
     "name": "stdout",
     "output_type": "stream",
     "text": [
      "Enter a string: Hi I am Aman\n",
      "Enter a string: and you?\n",
      "Enter a string: I am Kunal from Mumbai\n"
     ]
    },
    {
     "data": {
      "text/plain": [
       "'Hi I am Aman'"
      ]
     },
     "execution_count": 18,
     "metadata": {},
     "output_type": "execute_result"
    }
   ],
   "source": [
    "l=[]    #stores string\n",
    "s=[]    #stores length\n",
    "for i in range (3):\n",
    "    a= input(\"Enter a string: \")  \n",
    "    l.append(a)\n",
    "    s.append(len(l[i].split()))\n",
    "sorted(s)\n",
    "\n",
    "print(\"String having 2nd largest number of words: \")\n",
    "[i for i in l if len(i.split())== (sorted(s)[-2])][0]"
   ]
  },
  {
   "cell_type": "markdown",
   "id": "5a485c8c",
   "metadata": {
    "id": "5a485c8c"
   },
   "source": [
    "#### 10. Write a program to take four strings as input and print the string having third highest number of words."
   ]
  },
  {
   "cell_type": "code",
   "execution_count": 2,
   "id": "19Wx8OZqk3UQ",
   "metadata": {
    "id": "19Wx8OZqk3UQ"
   },
   "outputs": [
    {
     "name": "stdout",
     "output_type": "stream",
     "text": [
      "Enter a string: Hi I am Aman\n",
      "Enter a string: and you?\n",
      "Enter a string: I am Kunal from Mumbai\n",
      "Enter a string: see you later\n",
      "String having 2nd largest number of words: "
     ]
    },
    {
     "data": {
      "text/plain": [
       "'see you later'"
      ]
     },
     "execution_count": 2,
     "metadata": {},
     "output_type": "execute_result"
    }
   ],
   "source": [
    "l=[]    #stores string\n",
    "s=[]    #stores length\n",
    "for i in range (4):\n",
    "    a= input(\"Enter a string: \")  \n",
    "    l.append(a)\n",
    "    s.append(len(l[i].split()))\n",
    "sorted(s)\n",
    "\n",
    "print(\"String having 2nd largest number of words: \")\n",
    "[i for i in l if len(i.split())== (sorted(s)[-3])][0]"
   ]
  },
  {
   "cell_type": "code",
   "execution_count": null,
   "id": "b81a92e6",
   "metadata": {},
   "outputs": [],
   "source": []
  },
  {
   "cell_type": "code",
   "execution_count": null,
   "id": "3536a53a",
   "metadata": {},
   "outputs": [],
   "source": []
  },
  {
   "cell_type": "code",
   "execution_count": null,
   "id": "2f08244e",
   "metadata": {},
   "outputs": [],
   "source": []
  },
  {
   "cell_type": "code",
   "execution_count": null,
   "id": "ed28fe1c",
   "metadata": {},
   "outputs": [],
   "source": []
  },
  {
   "cell_type": "code",
   "execution_count": null,
   "id": "df744872",
   "metadata": {},
   "outputs": [],
   "source": []
  },
  {
   "cell_type": "code",
   "execution_count": null,
   "id": "fda507c0",
   "metadata": {},
   "outputs": [],
   "source": []
  }
 ],
 "metadata": {
  "colab": {
   "provenance": []
  },
  "kernelspec": {
   "display_name": "Python 3 (ipykernel)",
   "language": "python",
   "name": "python3"
  },
  "language_info": {
   "codemirror_mode": {
    "name": "ipython",
    "version": 3
   },
   "file_extension": ".py",
   "mimetype": "text/x-python",
   "name": "python",
   "nbconvert_exporter": "python",
   "pygments_lexer": "ipython3",
   "version": "3.9.13"
  }
 },
 "nbformat": 4,
 "nbformat_minor": 5
}
