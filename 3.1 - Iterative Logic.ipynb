{
 "cells": [
  {
   "cell_type": "markdown",
   "id": "9acd52dd",
   "metadata": {
    "id": "9acd52dd"
   },
   "source": [
    "# Assessment - 4 Gradable\n",
    "\n",
    "- Each question carries 5 marks\n",
    "- Marks will be assigned in terms of:\n",
    "    \n",
    "    **1. Expected output**\n",
    "    \n",
    "    **2. Quality and Explainability of code**\n",
    "\n",
    "    ***Go back through the script and type a comment above each line explaining in English what it does.***\n",
    "\n",
    "    **3. Copied code, if found, will result in 0 marks for that question. To avoid this make as much comments in the code to explain the approach**"
   ]
  },
  {
   "cell_type": "markdown",
   "id": "1dd6b730",
   "metadata": {
    "id": "1dd6b730"
   },
   "source": [
    "### 1. \n",
    "\n",
    "Write a Python function that prints out the first n rows of Pascal's triangle.\n",
    "\n",
    "- Input : 5\n",
    "- Output: \n",
    "          1\n",
    "         1 1\n",
    "        1 2 1\n",
    "       1 3 3 1\n",
    "      1 4 6 4 1"
   ]
  },
  {
   "cell_type": "code",
   "execution_count": 2,
   "id": "2ed91ea0-84f6-4599-ba73-3df3f4b2b0eb",
   "metadata": {},
   "outputs": [
    {
     "name": "stdin",
     "output_type": "stream",
     "text": [
      "Enter number of levels:  7\n"
     ]
    }
   ],
   "source": [
    "n= int(input(\"Enter number of levels: \"))"
   ]
  },
  {
   "cell_type": "code",
   "execution_count": 7,
   "id": "e71d376a-438b-4fe3-8055-dde370272e0e",
   "metadata": {},
   "outputs": [
    {
     "name": "stdout",
     "output_type": "stream",
     "text": [
      "      1\n",
      "     1 1\n",
      "    1 2 1\n",
      "   1 3 3 1\n",
      "  1 4 6 4 1\n",
      " 1 6 1 0 5 1\n",
      "1 7 7 1 5 6 1\n"
     ]
    }
   ],
   "source": [
    "'''for i in range(0,n):\n",
    "    print(\" \"*(n-1-i), end=\"\")\n",
    "    print(\" \".join(str(11**i)))'''"
   ]
  },
  {
   "cell_type": "code",
   "execution_count": null,
   "id": "a807ad19-aeee-425c-93c8-be37a01b6186",
   "metadata": {},
   "outputs": [],
   "source": []
  },
  {
   "cell_type": "code",
   "execution_count": 37,
   "id": "fc95e0f2",
   "metadata": {},
   "outputs": [
    {
     "name": "stdout",
     "output_type": "stream",
     "text": [
      "Enter number of lines: 7\n",
      "      1\n",
      "     1 1\n",
      "    1 2 1\n",
      "   1 3 3 1\n",
      "  1 4 6 4 1\n",
      " 1 5 10 10 5 1\n",
      "1 6 15 20 15 6 1\n"
     ]
    }
   ],
   "source": [
    "def tri(n):\n",
    "    li=[]\n",
    "\n",
    "    for i in range (n):\n",
    "        line=[]\n",
    "\n",
    "        for j in range (i+1):\n",
    "            if j==0 or j==i:\n",
    "                line.append(1)\n",
    "\n",
    "            else:\n",
    "                line.append(li[i-1][j] + li[i-1][j-1])\n",
    "\n",
    "\n",
    "        li.append(line)\n",
    "        #print(line)\n",
    "\n",
    "    for i in range(len(li)):\n",
    "        print(\" \"*(len(li)-i-1), end=\"\")\n",
    "        print(\" \".join(str(x) for x in li[i]))\n",
    "        \n",
    "        \n",
    "x=int(input(\"Enter number of lines: \"))\n",
    "tri(x)"
   ]
  },
  {
   "cell_type": "code",
   "execution_count": null,
   "id": "04ae6248",
   "metadata": {
    "id": "04ae6248"
   },
   "outputs": [],
   "source": []
  },
  {
   "cell_type": "markdown",
   "id": "ffc26930",
   "metadata": {
    "id": "ffc26930"
   },
   "source": [
    "### 2. \n",
    "\n",
    "Write a function to print following pattern by accepting n value from user\n",
    "\n",
    "    1  \n",
    "    2  4  \n",
    "    3  6  9  \n",
    "    4  8  12  16  \n",
    "    5  10  15  20  25  \n",
    "    6  12  18  24  30  36  \n",
    "    7  14  21  28  35  42  49  \n",
    "    8  16  24  32  40  48  56  64 \n",
    "    \n",
    "Hint:\n",
    "- n is 8\n"
   ]
  },
  {
   "cell_type": "code",
   "execution_count": 7,
   "id": "8738e43e",
   "metadata": {},
   "outputs": [
    {
     "name": "stdout",
     "output_type": "stream",
     "text": [
      "Enter a number: 8\n",
      "1 \n",
      "2 4 \n",
      "3 6 9 \n",
      "4 8 12 16 \n",
      "5 10 15 20 25 \n",
      "6 12 18 24 30 36 \n",
      "7 14 21 28 35 42 49 \n",
      "8 16 24 32 40 48 56 64 \n"
     ]
    }
   ],
   "source": [
    "n=int(input(\"Enter a number: \"))\n",
    "for i in range(1,n+1):\n",
    "    for j in range (1,i+1):\n",
    "        print(j*i, end=\" \")\n",
    "        \n",
    "    print()"
   ]
  },
  {
   "cell_type": "code",
   "execution_count": null,
   "id": "b39cad10",
   "metadata": {},
   "outputs": [],
   "source": []
  },
  {
   "cell_type": "markdown",
   "id": "eec7fc6c",
   "metadata": {
    "id": "eec7fc6c"
   },
   "source": [
    "### 3. \n",
    "\n",
    "Write a program to print prime numbers from 1 to 100\n"
   ]
  },
  {
   "cell_type": "code",
   "execution_count": 12,
   "id": "4de40729",
   "metadata": {
    "id": "4de40729"
   },
   "outputs": [
    {
     "name": "stdout",
     "output_type": "stream",
     "text": [
      "1\n",
      "2\n",
      "3\n",
      "5\n",
      "7\n",
      "11\n",
      "13\n",
      "17\n",
      "19\n",
      "23\n",
      "29\n",
      "31\n",
      "37\n",
      "41\n",
      "43\n",
      "47\n",
      "53\n",
      "59\n",
      "61\n",
      "67\n",
      "71\n",
      "73\n",
      "79\n",
      "83\n",
      "89\n",
      "97\n"
     ]
    }
   ],
   "source": [
    "for i in range(1,101):\n",
    "    f=0\n",
    "    for j in range (2,i):\n",
    "        if i%j ==0:\n",
    "            f=1\n",
    "    if f==0:\n",
    "        print(i)"
   ]
  },
  {
   "cell_type": "markdown",
   "id": "6739aeef",
   "metadata": {
    "id": "6739aeef"
   },
   "source": [
    "### 4. \n",
    "\n",
    "Write a program to find given number is palindrome or not\n",
    "\n",
    "Hint:\n",
    "- 121 is palindrome\n",
    "- 123 is not palindrome"
   ]
  },
  {
   "cell_type": "code",
   "execution_count": 25,
   "id": "1ec4e63e",
   "metadata": {
    "id": "1ec4e63e"
   },
   "outputs": [
    {
     "name": "stdout",
     "output_type": "stream",
     "text": [
      "Enter a number123454321\n",
      "123454321 is a Palindrome\n"
     ]
    }
   ],
   "source": [
    "n=input(\"Enter a number\")\n",
    "li=[i for i in n]\n",
    "\n",
    "li.reverse()\n",
    "if li == [i for i in n] :\n",
    "    print(n,\"is a Palindrome\")\n",
    "    \n",
    "else:\n",
    "    print(n,\" is not a palindrome\")"
   ]
  },
  {
   "cell_type": "markdown",
   "id": "af46e819",
   "metadata": {
    "id": "af46e819"
   },
   "source": [
    "### 5.\n",
    "\n",
    "Write a program to iterate the first 10 numbers and in each iteration, print the sum of the current and previous number.\n",
    "\n",
    "- Current Number 0 Previous Number  0  Sum:  0\n",
    "- Current Number 1 Previous Number  0  Sum:  1 and so on"
   ]
  },
  {
   "cell_type": "code",
   "execution_count": 34,
   "id": "830a0664",
   "metadata": {
    "id": "830a0664"
   },
   "outputs": [
    {
     "name": "stdout",
     "output_type": "stream",
     "text": [
      "Current Number is 0, Previous Number is 0, Sum: 0\n",
      "Current Number is 1, Previous Number is 0, Sum: 1\n",
      "Current Number is 2, Previous Number is 1, Sum: 3\n",
      "Current Number is 3, Previous Number is 2, Sum: 5\n",
      "Current Number is 4, Previous Number is 3, Sum: 7\n",
      "Current Number is 5, Previous Number is 4, Sum: 9\n",
      "Current Number is 6, Previous Number is 5, Sum: 11\n",
      "Current Number is 7, Previous Number is 6, Sum: 13\n",
      "Current Number is 8, Previous Number is 7, Sum: 15\n",
      "Current Number is 9, Previous Number is 8, Sum: 17\n"
     ]
    }
   ],
   "source": [
    "for i in range (10):\n",
    "    if i==0:\n",
    "        print(\"Current Number is 0, Previous Number is 0, Sum: {0}\".format(i))\n",
    "    else:\n",
    "        print(\"Current Number is {0}, Previous Number is {1}, Sum: {2}\".format(i, i-1 , sum([i,i-1])))"
   ]
  },
  {
   "cell_type": "code",
   "execution_count": null,
   "id": "c5a48549",
   "metadata": {},
   "outputs": [],
   "source": []
  }
 ],
 "metadata": {
  "colab": {
   "provenance": []
  },
  "kernelspec": {
   "display_name": "Python 3 (ipykernel)",
   "language": "python",
   "name": "python3"
  },
  "language_info": {
   "codemirror_mode": {
    "name": "ipython",
    "version": 3
   },
   "file_extension": ".py",
   "mimetype": "text/x-python",
   "name": "python",
   "nbconvert_exporter": "python",
   "pygments_lexer": "ipython3",
   "version": "3.9.13"
  }
 },
 "nbformat": 4,
 "nbformat_minor": 5
}
