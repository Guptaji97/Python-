{
 "cells": [
  {
   "cell_type": "markdown",
   "id": "c6ec5c42",
   "metadata": {
    "id": "c6ec5c42"
   },
   "source": [
    "# Assessment - 3 Gradable\n",
    "\n",
    "- Each question carries 3 or 4 marks\n",
    "- Marks will be assigned in terms of:\n",
    "    \n",
    "    **1. Expected output**\n",
    "    \n",
    "    **2. Quality and Explainability of code**\n",
    "\n",
    "    ***Go back through the script and type a comment above each line explaining in English what it does.***\n",
    "\n",
    "    **3. Copied code, if found, will result in 0 marks for that question. To avoid this make as much comments in the code to explain the approach**"
   ]
  },
  {
   "cell_type": "markdown",
   "id": "8698053e",
   "metadata": {
    "id": "8698053e"
   },
   "source": [
    "### 1.\n",
    "\n",
    "Go through the string below and if the length of a word is even print \"even!\"\n",
    "\n",
    "string = 'I know how to print every word in this sentence that has an even number of letters'"
   ]
  },
  {
   "cell_type": "code",
   "execution_count": 1,
   "id": "336fc152",
   "metadata": {},
   "outputs": [
    {
     "name": "stdout",
     "output_type": "stream",
     "text": [
      "know\t\tEven\n",
      "to\t\tEven\n",
      "word\t\tEven\n",
      "in\t\tEven\n",
      "this\t\tEven\n",
      "sentence\t\tEven\n",
      "that\t\tEven\n",
      "an\t\tEven\n",
      "even\t\tEven\n",
      "number\t\tEven\n",
      "of\t\tEven\n"
     ]
    }
   ],
   "source": [
    "#method 1\n",
    "string = 'I know how to print every word in this sentence that has an even number of letters'\n",
    "\n",
    "for i in string.split():\n",
    "    if len(i)%2==0:\n",
    "        print(i, end=\"\\t\\t\")\n",
    "        print('Even')"
   ]
  },
  {
   "cell_type": "code",
   "execution_count": 17,
   "id": "4dec28a9",
   "metadata": {
    "id": "4dec28a9"
   },
   "outputs": [
    {
     "name": "stdout",
     "output_type": "stream",
     "text": [
      "know\t\t4\tEven\n",
      "to\t\t2\tEven\n",
      "word\t\t4\tEven\n",
      "in\t\t2\tEven\n",
      "this\t\t4\tEven\n",
      "sentence\t8\tEven\n",
      "that\t\t4\tEven\n",
      "an\t\t2\tEven\n",
      "even\t\t4\tEven\n",
      "number\t\t6\tEven\n",
      "of\t\t2\tEven\n"
     ]
    }
   ],
   "source": [
    "#method 2\n",
    "string = 'I know how to print every word in this sentence that has an even number of letters'\n",
    "\n",
    "for i in string.split():              #Split the sentence w.r.t spaces\n",
    "    if len(i)%2==0:                   # check if the length of words is in multiple of 2\n",
    "        if len(i)%8!=0:               #To balance the spaces where length of words is in multiple of 8\n",
    "            print(i, end=\"\\t\\t\")      # print the word and end with tab space and not new line\n",
    "            print(len(i), end=\"\\t\")   # print length of word and end with tab space\n",
    "        else:\n",
    "            print(i, end=\"\\t\")\n",
    "            print(len(i), end=\"\\t\")\n",
    "            \n",
    "        print(\"Even\")                 # required output"
   ]
  },
  {
   "cell_type": "markdown",
   "id": "8569bc4e",
   "metadata": {
    "id": "8569bc4e"
   },
   "source": [
    "### 2. \n",
    "\n",
    "Write a program to check given number is odd or even\n",
    "\n",
    "Hint:\n",
    "- 20 is even\n",
    "- 27 is odd"
   ]
  },
  {
   "cell_type": "code",
   "execution_count": 18,
   "id": "9ccfca15",
   "metadata": {
    "id": "9ccfca15"
   },
   "outputs": [
    {
     "name": "stdout",
     "output_type": "stream",
     "text": [
      "Enter a number: 47\n",
      "47 is odd\n"
     ]
    }
   ],
   "source": [
    "# take number from user input\n",
    "num= int(input(\"Enter a number: \"))\n",
    "if num%2==0:                    #check if remainder is 0 after dividing the number by 2\n",
    "    print(num, \"is Even\")\n",
    "else:\n",
    "    print(num, \"is odd\")"
   ]
  },
  {
   "cell_type": "markdown",
   "id": "40759409",
   "metadata": {
    "id": "40759409"
   },
   "source": [
    "### 3.\n",
    "\n",
    "Write a program to check given number is divisible by 6 or not\n",
    "\n",
    "Hint:\n",
    "24 is divisible by 6\n",
    "27 is not divisible by 6"
   ]
  },
  {
   "cell_type": "code",
   "execution_count": 20,
   "id": "f7409469",
   "metadata": {
    "id": "f7409469"
   },
   "outputs": [
    {
     "name": "stdout",
     "output_type": "stream",
     "text": [
      "Enter a number: 36\n",
      "36 is divisible by 6\n"
     ]
    }
   ],
   "source": [
    "# take number from user\n",
    "num= int(input(\"Enter a number: \"))\n",
    "if num%6==0:                    #check if remainder is 0 after dividing the number by 6\n",
    "    print(num, \"is divisible by 6\")\n",
    "else:\n",
    "    print(num, \"is not divisible by 6\")"
   ]
  },
  {
   "cell_type": "markdown",
   "id": "0dd3847a",
   "metadata": {
    "id": "0dd3847a"
   },
   "source": [
    "### 4. \n",
    "\n",
    "Create a list containing the following 3 elements:\n",
    "\n",
    "- Subject person had taken\n",
    "- Marks Achieved\n",
    "- a boolean value showing previous programming experience\n",
    "\n",
    "print all details and also print person has programming experience or not"
   ]
  },
  {
   "cell_type": "code",
   "execution_count": 41,
   "id": "5c87efcb",
   "metadata": {
    "id": "5c87efcb"
   },
   "outputs": [
    {
     "name": "stdout",
     "output_type": "stream",
     "text": [
      "Scored 85 in Data Science\n",
      "Programming experience: NO\n"
     ]
    }
   ],
   "source": [
    "li= [\"Data Science\", 85, 0]\n",
    "\n",
    "print(f\"Scored {li[1]} in {li[0]}\")\n",
    "\n",
    "print(\"Programming experience: \", end= \"\")\n",
    "\n",
    "print(\"NO\") if li[-1]== False else print(\"YES\")"
   ]
  },
  {
   "cell_type": "markdown",
   "id": "a54510f0",
   "metadata": {
    "id": "a54510f0"
   },
   "source": [
    "### 5.\n",
    "\n",
    "Write a program to check sum of all elements in a list is greater than 100 or not\n",
    "\n",
    "Hint:\n",
    "- [11, 13, 17, 19, 11] --> sum is not greater than 100\n",
    "- [24, 36, 30, 31, 42] --> sum is greater than 100"
   ]
  },
  {
   "cell_type": "code",
   "execution_count": 29,
   "id": "5d53ba1f",
   "metadata": {
    "id": "5d53ba1f"
   },
   "outputs": [
    {
     "name": "stdout",
     "output_type": "stream",
     "text": [
      "Enter element: 5\n",
      "Enter element: 5\n",
      "Enter element: 5\n",
      "Enter element: 5\n",
      "Enter element: 5\n",
      "sum is not greater than 100\n"
     ]
    }
   ],
   "source": [
    "s=0     # to calculate sum\n",
    "for i in range(5):\n",
    "    s+=int(input(\"Enter element: \"))    # asks for input 5 times and adds them\n",
    "    \n",
    "if s>100:\n",
    "    print(\"sum is greater than 100\")    # checks if sum >100\n",
    "    \n",
    "elif (s<100):\n",
    "    print(\"sum is not greater than 100\")    # checks if sum <100\n",
    "else:\n",
    "    print(\"sum is equal to 100\")    # checks if sum =100"
   ]
  },
  {
   "cell_type": "code",
   "execution_count": null,
   "id": "32206cbb",
   "metadata": {},
   "outputs": [],
   "source": []
  },
  {
   "cell_type": "code",
   "execution_count": null,
   "id": "cde2f308",
   "metadata": {},
   "outputs": [],
   "source": []
  }
 ],
 "metadata": {
  "colab": {
   "provenance": []
  },
  "kernelspec": {
   "display_name": "Python 3 (ipykernel)",
   "language": "python",
   "name": "python3"
  },
  "language_info": {
   "codemirror_mode": {
    "name": "ipython",
    "version": 3
   },
   "file_extension": ".py",
   "mimetype": "text/x-python",
   "name": "python",
   "nbconvert_exporter": "python",
   "pygments_lexer": "ipython3",
   "version": "3.9.13"
  }
 },
 "nbformat": 4,
 "nbformat_minor": 5
}
