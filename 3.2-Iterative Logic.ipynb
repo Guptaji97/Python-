{
 "cells": [
  {
   "cell_type": "markdown",
   "id": "b462dadb",
   "metadata": {
    "id": "b462dadb"
   },
   "source": [
    "# Iterative Statements\n",
    "- Write solution of each question in the cell given below the corresponsing question."
   ]
  },
  {
   "cell_type": "markdown",
   "id": "f5aefe41",
   "metadata": {
    "id": "f5aefe41"
   },
   "source": [
    "#### 1. Tom and Bob are playing a game of dice. Each time a multiple of two comes up Tom gets a point and if a multiple of 3 comes up bob gets a point. If a multiple of both comes up then a point is deducted from both. Write a program to take a list as input consisting of 10 outcomes of the dice throw. Print the scores of both Tom and bob and the winner."
   ]
  },
  {
   "cell_type": "code",
   "execution_count": 79,
   "id": "WzFaY9Pk53Pl",
   "metadata": {
    "id": "WzFaY9Pk53Pl"
   },
   "outputs": [
    {
     "name": "stdout",
     "output_type": "stream",
     "text": [
      "Enter 10 dice outcomes with spaces: 2 4 4 3 2 4 6 1 6 5\n",
      "Score of tom is:  3\n",
      "Score of bob is:  -1\n"
     ]
    }
   ],
   "source": [
    "d= input(\"Enter 10 dice outcomes with spaces: \").split()\n",
    "d=[int(i) for i in d]\n",
    "t=0\n",
    "j=0\n",
    "for i in d:\n",
    "    if i%2==0 and i%3==0:\n",
    "        t-=1\n",
    "        j-=1\n",
    "        \n",
    "    elif i%2==0:\n",
    "        t+=1\n",
    "    elif i%3==0:\n",
    "        j+=1\n",
    "        \n",
    "print(\"Score of tom is: \", t)\n",
    "print(\"Score of bob is: \", j)"
   ]
  },
  {
   "cell_type": "code",
   "execution_count": 74,
   "id": "a105e05d",
   "metadata": {},
   "outputs": [
    {
     "data": {
      "text/plain": [
       "[2, 4, 4, 3, 2, 4, 6, 1, 6, 5]"
      ]
     },
     "execution_count": 74,
     "metadata": {},
     "output_type": "execute_result"
    }
   ],
   "source": [
    "import random\n",
    "\n",
    "[random.choice([1,2,3,4,5,6]) for i in range(10)]"
   ]
  },
  {
   "cell_type": "markdown",
   "id": "57ec6a53",
   "metadata": {
    "id": "57ec6a53"
   },
   "source": [
    "##### 2. Write a program to take a list of 10 numbers as input in single line and find out the largest element."
   ]
  },
  {
   "cell_type": "code",
   "execution_count": 6,
   "id": "scLsG4fkSyUu",
   "metadata": {
    "id": "scLsG4fkSyUu"
   },
   "outputs": [
    {
     "name": "stdout",
     "output_type": "stream",
     "text": [
      "Enter 10 numbers with spaces in between them: 13 96 06 94 615 1588 265 153 660 145\n",
      "The largest element is 1588\n"
     ]
    }
   ],
   "source": [
    "a=input(\"Enter 10 numbers with spaces in between them: \").split()    #input\n",
    "a=[int(i) for i in a]    #typecasting\n",
    "print(\"The largest element is\",max(a))    #output"
   ]
  },
  {
   "cell_type": "markdown",
   "id": "ee2cce37",
   "metadata": {
    "id": "ee2cce37"
   },
   "source": [
    "#### 3. Write a program to take a number as input and find out whether it is prime or not."
   ]
  },
  {
   "cell_type": "code",
   "execution_count": 16,
   "id": "td2eirqTZCiE",
   "metadata": {
    "id": "td2eirqTZCiE"
   },
   "outputs": [
    {
     "name": "stdout",
     "output_type": "stream",
     "text": [
      "Enter a number to check if it's prime: 45\n",
      "45 is not a Prime number\n"
     ]
    }
   ],
   "source": [
    "def prime(n):\n",
    "    x=int(n/2 +1)\n",
    "    f=0\n",
    "    for i in range(2,x):\n",
    "        if n%i==0:\n",
    "            f=1\n",
    "            break\n",
    "    \n",
    "    if f==1:\n",
    "        print(n,\"is not a Prime number\")\n",
    "        \n",
    "    else:\n",
    "        print(n,\"is a Prime number\")\n",
    "    \n",
    "a= int(input(\"Enter a number to check if it's prime: \"))\n",
    "prime(a)"
   ]
  },
  {
   "cell_type": "markdown",
   "id": "07d5a484",
   "metadata": {
    "id": "07d5a484"
   },
   "source": [
    "#### 4. Take a list and a number as input, print all consecutive pairs of two numbers from the list having sum equal to the given number."
   ]
  },
  {
   "cell_type": "code",
   "execution_count": 52,
   "id": "e3acd75f",
   "metadata": {
    "id": "e3acd75f"
   },
   "outputs": [
    {
     "name": "stdout",
     "output_type": "stream",
     "text": [
      "Enter the elements with space: 45 81 36 64 40 60 50\n",
      "Enter a  number: 100\n",
      "36 64\n",
      "64 36\n",
      "40 60\n",
      "60 40\n"
     ]
    }
   ],
   "source": [
    "a=input(\"Enter the elements with space: \").split()\n",
    "a=[int(i) for i in a]\n",
    "n= int(input (\"Enter a  number: \"))\n",
    "\n",
    "for i in range (len(a)):\n",
    "    for j in range(len(a)):\n",
    "        if ((n-a[i]) ==a[j]):\n",
    "            if i==j:\n",
    "                continue\n",
    "            print(a[i], a[j])"
   ]
  },
  {
   "cell_type": "code",
   "execution_count": null,
   "id": "1790c905",
   "metadata": {},
   "outputs": [],
   "source": []
  },
  {
   "cell_type": "markdown",
   "id": "d2bc68d1",
   "metadata": {
    "id": "d2bc68d1"
   },
   "source": [
    "#### 5. Take a string as input and find out the number of words with even length and number of words with odd length."
   ]
  },
  {
   "cell_type": "code",
   "execution_count": 63,
   "id": "P1HffxgLZk6C",
   "metadata": {
    "id": "P1HffxgLZk6C"
   },
   "outputs": [
    {
     "name": "stdout",
     "output_type": "stream",
     "text": [
      "Enter the elements with space: hi my name is aman gupta\n",
      "Number of words with even length:  5\n",
      "Number of words with odd length:  1\n"
     ]
    }
   ],
   "source": [
    "a=input(\"Enter the elements with space: \").split()\n",
    "even=[i for i in a if len(i)%2==0]\n",
    "odd=[i for i in a if len(i)%2!=0]\n",
    "\n",
    "print(\"Number of words with even length: \", len(even))\n",
    "print(\"Number of words with odd length: \", len(odd))"
   ]
  },
  {
   "cell_type": "code",
   "execution_count": null,
   "id": "1f944a3c",
   "metadata": {},
   "outputs": [],
   "source": []
  },
  {
   "cell_type": "markdown",
   "id": "41da36a0",
   "metadata": {
    "id": "41da36a0"
   },
   "source": []
  },
  {
   "cell_type": "markdown",
   "id": "9bc04f36",
   "metadata": {
    "id": "9bc04f36"
   },
   "source": [
    "#### 6. Write a program to sort a given list using selection sort algorithm. (study selection sort and implement)"
   ]
  },
  {
   "cell_type": "code",
   "execution_count": null,
   "id": "3856c27b-3b03-44be-8894-afac530d61bc",
   "metadata": {},
   "outputs": [],
   "source": []
  },
  {
   "cell_type": "code",
   "execution_count": 10,
   "id": "3abb8c1e",
   "metadata": {
    "id": "3abb8c1e"
   },
   "outputs": [
    {
     "name": "stdin",
     "output_type": "stream",
     "text": [
      "Enter  elements of the list with spaces between them:  24 65 75 98 21 76\n"
     ]
    },
    {
     "name": "stdout",
     "output_type": "stream",
     "text": [
      "Before sorting:  [24, 65, 75, 98, 21, 76]\n",
      "After sorting:  [21, 24, 65, 75, 76, 98]\n"
     ]
    }
   ],
   "source": [
    "x= input(\"Enter  elements of the list with spaces between them: \").split()\n",
    "a= [int(i) for i in x]\n",
    "\n",
    "print(\"Before sorting: \",a)\n",
    "for i in range(len(a)):\n",
    "    for j in range(i+1,len(a)):\n",
    "        if a[i]> a[j]:\n",
    "            a[i], a[j] = a[j], a[i]\n",
    "\n",
    "print(\"After sorting: \",a)"
   ]
  },
  {
   "cell_type": "markdown",
   "id": "d2cf1bab",
   "metadata": {
    "id": "d2cf1bab"
   },
   "source": [
    "#### 7. Write a program to sort a given list using bubble sort algorithm. (Study bubble sort and implement)"
   ]
  },
  {
   "cell_type": "code",
   "execution_count": 67,
   "id": "OJAUtZLmyvMk",
   "metadata": {
    "id": "OJAUtZLmyvMk"
   },
   "outputs": [
    {
     "name": "stdout",
     "output_type": "stream",
     "text": [
      "Enter  elements of the list with spaces between them: 24 65 75 98 21 76\n",
      "Before sorting:  [24, 65, 75, 98, 21, 76]\n",
      "After sorting:  [21, 24, 65, 75, 76, 98]\n"
     ]
    }
   ],
   "source": [
    "x= input(\"Enter  elements of the list with spaces between them: \").split()\n",
    "a= [int(i) for i in x]\n",
    "\n",
    "print(\"Before sorting: \",a)\n",
    "for i in range(len(a)):\n",
    "    for j in range(len(a)-i-1):\n",
    "        if a[j]> a[j+1]:\n",
    "            a[j], a[j+1] = a[j+1], a[j]\n",
    "\n",
    "print(\"After sorting: \",a)"
   ]
  },
  {
   "cell_type": "code",
   "execution_count": null,
   "id": "8a2faab6",
   "metadata": {},
   "outputs": [],
   "source": []
  },
  {
   "cell_type": "markdown",
   "id": "1910df79",
   "metadata": {
    "id": "1910df79"
   },
   "source": [
    "#### 8. Take a string and a word and input. Find the frequenecy of occurrence of the word in the given string. (Without using any inbuilt function)"
   ]
  },
  {
   "cell_type": "code",
   "execution_count": 80,
   "id": "c50d4a3c",
   "metadata": {
    "id": "c50d4a3c"
   },
   "outputs": [
    {
     "name": "stdout",
     "output_type": "stream",
     "text": [
      "Enter the elements with space: the quick brown fox jumps over the lazy dog\n",
      "Enter a word: the\n",
      "frequenecy of occurrence of the the in the given string is 2 times\n"
     ]
    }
   ],
   "source": [
    "a=input(\"Enter the elements with space: \").split()\n",
    "w=input(\"Enter a word: \")\n",
    "c=0\n",
    "for i in a:\n",
    "    if i == w:\n",
    "        c+=1\n",
    "        \n",
    "print(\"frequenecy of occurrence of the {0} in the given string is {1} times\". format(w,c))"
   ]
  },
  {
   "cell_type": "markdown",
   "id": "b05f15de",
   "metadata": {
    "id": "b05f15de"
   },
   "source": [
    "#### 9. Write a program to print the following pattern: "
   ]
  },
  {
   "cell_type": "code",
   "execution_count": null,
   "id": "5113af76",
   "metadata": {
    "colab": {
     "base_uri": "https://localhost:8080/"
    },
    "executionInfo": {
     "elapsed": 547,
     "status": "ok",
     "timestamp": 1676753746046,
     "user": {
      "displayName": "Malathi V",
      "userId": "05981803588813056384"
     },
     "user_tz": -330
    },
    "id": "5113af76",
    "outputId": "c86dd0d3-1a32-4fef-818e-852f636f919a"
   },
   "outputs": [
    {
     "name": "stdout",
     "output_type": "stream",
     "text": [
      "\n"
     ]
    }
   ],
   "source": [
    "'''\n",
    "5 4 3 2 1\n",
    "  4 3 2 1\n",
    "    3 2 1\n",
    "      2 1\n",
    "        1\n",
    "'''\n",
    "print()"
   ]
  },
  {
   "cell_type": "code",
   "execution_count": 40,
   "id": "j7lsHqTI1-ZY",
   "metadata": {
    "id": "j7lsHqTI1-ZY"
   },
   "outputs": [
    {
     "name": "stdout",
     "output_type": "stream",
     "text": [
      "54321\n",
      " 4321\n",
      "  321\n",
      "   21\n",
      "    1\n"
     ]
    }
   ],
   "source": [
    "for i in range(5,0,-1):\n",
    "    print(\" \"*(5-i),end=\"\") \n",
    "    for j in range(i,0,-1):\n",
    "        print(j, end=\"\")\n",
    "    print()"
   ]
  },
  {
   "cell_type": "markdown",
   "id": "279b94c8",
   "metadata": {
    "id": "279b94c8"
   },
   "source": [
    "#### 10. Write a program to print the following pattern:"
   ]
  },
  {
   "cell_type": "code",
   "execution_count": null,
   "id": "af2c05e5",
   "metadata": {
    "colab": {
     "base_uri": "https://localhost:8080/"
    },
    "executionInfo": {
     "elapsed": 513,
     "status": "ok",
     "timestamp": 1676753758009,
     "user": {
      "displayName": "Malathi V",
      "userId": "05981803588813056384"
     },
     "user_tz": -330
    },
    "id": "af2c05e5",
    "outputId": "a05270a6-9f54-461e-a195-d46c556e048d"
   },
   "outputs": [
    {
     "name": "stdout",
     "output_type": "stream",
     "text": [
      "\n"
     ]
    }
   ],
   "source": [
    "'''\n",
    "5 4 3 2 1\n",
    "4 3 2 1\n",
    "3 2 1\n",
    "2 1\n",
    "1\n",
    "'''\n",
    "print()"
   ]
  },
  {
   "cell_type": "code",
   "execution_count": 42,
   "id": "a6502c4f",
   "metadata": {
    "id": "a6502c4f"
   },
   "outputs": [
    {
     "name": "stdout",
     "output_type": "stream",
     "text": [
      "54321\n",
      "4321\n",
      "321\n",
      "21\n",
      "1\n"
     ]
    }
   ],
   "source": [
    "for i in range(5,0,-1):\n",
    "    for j in range(i,0,-1):\n",
    "        print(j, end=\"\")\n",
    "        \n",
    "    print()"
   ]
  },
  {
   "cell_type": "code",
   "execution_count": null,
   "id": "924c6624-1cdb-4a4b-988b-e1fc923d5c87",
   "metadata": {},
   "outputs": [],
   "source": []
  },
  {
   "cell_type": "code",
   "execution_count": null,
   "id": "a86b551a-365a-4042-8e2b-a3d861875048",
   "metadata": {},
   "outputs": [],
   "source": []
  }
 ],
 "metadata": {
  "colab": {
   "provenance": []
  },
  "kernelspec": {
   "display_name": "Python 3 (ipykernel)",
   "language": "python",
   "name": "python3"
  },
  "language_info": {
   "codemirror_mode": {
    "name": "ipython",
    "version": 3
   },
   "file_extension": ".py",
   "mimetype": "text/x-python",
   "name": "python",
   "nbconvert_exporter": "python",
   "pygments_lexer": "ipython3",
   "version": "3.9.13"
  }
 },
 "nbformat": 4,
 "nbformat_minor": 5
}
