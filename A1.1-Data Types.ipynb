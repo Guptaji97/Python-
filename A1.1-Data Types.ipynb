{
 "cells": [
  {
   "cell_type": "markdown",
   "id": "9cacd9e4",
   "metadata": {
    "id": "9cacd9e4"
   },
   "source": [
    "# Data Types & Basic Programs\n",
    "- Write solution of each question in the cell given below the corresponsing question."
   ]
  },
  {
   "cell_type": "markdown",
   "id": "a36a3683",
   "metadata": {
    "id": "a36a3683"
   },
   "source": [
    "#### 1. Write a program to take principal amount, rate and interest as input and calculate simple interest."
   ]
  },
  {
   "cell_type": "code",
   "execution_count": 1,
   "id": "iyGa2yN7bkZL",
   "metadata": {
    "colab": {
     "base_uri": "https://localhost:8080/",
     "height": 130
    },
    "executionInfo": {
     "elapsed": 8,
     "status": "error",
     "timestamp": 1682422665028,
     "user": {
      "displayName": "saylee morey",
      "userId": "14399473198527863861"
     },
     "user_tz": -330
    },
    "id": "iyGa2yN7bkZL",
    "outputId": "43c86045-073b-48a6-b7fb-8895e19b4b9c"
   },
   "outputs": [
    {
     "name": "stdout",
     "output_type": "stream",
     "text": [
      "The pricipal is  9\n",
      "The time period is 8\n",
      "The rate of interest is 9\n",
      "The Simple Interest is 6.48\n"
     ]
    },
    {
     "data": {
      "text/plain": [
       "6.48"
      ]
     },
     "execution_count": 1,
     "metadata": {},
     "output_type": "execute_result"
    }
   ],
   "source": [
    "# python code for calculating simple interest using principal amount, rate and year.\n",
    "def simple_interest(p, t, r):\n",
    "   print('The pricipal is ', p)\n",
    "   print('The time period is', t)\n",
    "   print('The rate of interest is', r)\n",
    "\n",
    "   si= (p*t*r)/100\n",
    "   print('The Simple Interest is', si)\n",
    "   return si\n",
    "  # sample amount for code\n",
    "simple_interest(9,8,9)\n"
   ]
  },
  {
   "cell_type": "markdown",
   "id": "3a9994e0",
   "metadata": {
    "id": "3a9994e0"
   },
   "source": [
    "#### 2. Write a program that takes a string as input and prints the number of words in the string."
   ]
  },
  {
   "cell_type": "code",
   "execution_count": 2,
   "id": "9VbTZFFQfHCm",
   "metadata": {
    "id": "9VbTZFFQfHCm"
   },
   "outputs": [
    {
     "name": "stdin",
     "output_type": "stream",
     "text": [
      "Enter a string:  Hi, How are you?\n"
     ]
    },
    {
     "name": "stdout",
     "output_type": "stream",
     "text": [
      "Number of words in the string:  4\n"
     ]
    }
   ],
   "source": [
    "def word(a):\n",
    "    print(\"Number of words in the string: \", len(a))    #prints the number of words in the string\n",
    "    \n",
    "x= input(\"Enter a string: \").split()    #takes the input and creates a list of words\n",
    "word(x)    #calls function word"
   ]
  },
  {
   "cell_type": "code",
   "execution_count": 3,
   "id": "53af966f",
   "metadata": {},
   "outputs": [
    {
     "data": {
      "text/plain": [
       "['Hi,', 'How', 'are', 'you?']"
      ]
     },
     "execution_count": 3,
     "metadata": {},
     "output_type": "execute_result"
    }
   ],
   "source": [
    "x"
   ]
  },
  {
   "cell_type": "code",
   "execution_count": null,
   "id": "064713f6",
   "metadata": {},
   "outputs": [],
   "source": []
  },
  {
   "cell_type": "markdown",
   "id": "8a8d5e27",
   "metadata": {
    "id": "8a8d5e27"
   },
   "source": [
    "#### 3. Write a program to take a list of numbers as input (in a single line) and print the sum, avg, max and min elements."
   ]
  },
  {
   "cell_type": "code",
   "execution_count": 4,
   "id": "6b26ae32",
   "metadata": {},
   "outputs": [
    {
     "name": "stdin",
     "output_type": "stream",
     "text": [
      "Enter the numbers with space:  10 20 30 40 50\n"
     ]
    },
    {
     "name": "stdout",
     "output_type": "stream",
     "text": [
      "Sum of the elements is:  150\n",
      "Average of the elements is:  30.0\n",
      "Max of the elements is:  50\n",
      "Minimum of the elements is:  10\n"
     ]
    }
   ],
   "source": [
    "def maths(li):\n",
    "\n",
    "    s= sum(li)    #sum\n",
    "        \n",
    "    avg= s/len(li)    #average\n",
    "    \n",
    "    big= max(li)    #maximum\n",
    "    \n",
    "    small = min(li)    #minimum\n",
    "\n",
    "    #displaying output\n",
    "    print(\"Sum of the elements is: \", s)\n",
    "    print(\"Average of the elements is: \", avg)\n",
    "    print(\"Max of the elements is: \", big)\n",
    "    print(\"Minimum of the elements is: \", small)\n",
    "\n",
    "x= input(\"Enter the numbers with space: \").split()    #takes number input from user in the form of string\n",
    "a= [int(i) for i in x]    #type casting list elements\n",
    "maths(a)    #calling maths function"
   ]
  },
  {
   "cell_type": "code",
   "execution_count": null,
   "id": "8dabe6a7",
   "metadata": {},
   "outputs": [],
   "source": []
  },
  {
   "cell_type": "markdown",
   "id": "17dbd6e8",
   "metadata": {
    "id": "17dbd6e8"
   },
   "source": [
    "#### 4. Write a program to take the marks of 3 students in five subjects each as a list (one list for each input) as input and print the average score of each student.."
   ]
  },
  {
   "cell_type": "code",
   "execution_count": 5,
   "id": "BTd2sM7i9sui",
   "metadata": {
    "id": "BTd2sM7i9sui"
   },
   "outputs": [
    {
     "name": "stdin",
     "output_type": "stream",
     "text": [
      "Enter the elements with space:  48 97 54 36 87\n",
      "Enter the elements with space:  29 54 36 24 76\n",
      "Enter the elements with space:  65 69 47 21 54\n"
     ]
    },
    {
     "name": "stdout",
     "output_type": "stream",
     "text": [
      "Average score of student 1 is 64.4\n",
      "Average score of student 2 is 43.8\n",
      "Average score of student 3 is 51.2\n"
     ]
    }
   ],
   "source": [
    "def avrg(li):\n",
    "    a= [[int(j) for j in i] for i in li]    #type casting elements in the list\n",
    "    \n",
    "    for i in range (3):\n",
    "        avg= sum(a[i])/len(a[i])    # performs average operation\n",
    "        print(\"Average score of student\", i+1, \"is\", round(avg,2))    \n",
    "        \n",
    "x=[]\n",
    "for i in range(3):\n",
    "    x.append(input(\"Enter the elements with space: \").split())    #takes number input from user in the form of string\n",
    "avrg(x)    #calls avrg funtion"
   ]
  },
  {
   "cell_type": "code",
   "execution_count": null,
   "id": "508ccdc8",
   "metadata": {},
   "outputs": [],
   "source": []
  },
  {
   "cell_type": "markdown",
   "id": "39fb8526",
   "metadata": {
    "id": "39fb8526"
   },
   "source": [
    "#### 5. Write a program to take a list as input containing results of 10 coin tosses as 'H' or 'T'. Jon gets a point for each 'T' and Tom gets a point for each 'H'. print the points recieved by both."
   ]
  },
  {
   "cell_type": "code",
   "execution_count": 67,
   "id": "Ijvfc63fHr8B",
   "metadata": {
    "id": "Ijvfc63fHr8B"
   },
   "outputs": [
    {
     "name": "stdout",
     "output_type": "stream",
     "text": [
      "Enter the outcome of coin tosses: h\n",
      "Enter the outcome of coin tosses: h\n",
      "Enter the outcome of coin tosses: t\n",
      "Enter the outcome of coin tosses: t\n",
      "Enter the outcome of coin tosses: t\n",
      "Enter the outcome of coin tosses: t\n",
      "Enter the outcome of coin tosses: h\n",
      "Enter the outcome of coin tosses: t\n",
      "Enter the outcome of coin tosses: h\n",
      "Enter the outcome of coin tosses: h\n",
      "points of john 5\n",
      "points of tom 5\n"
     ]
    }
   ],
   "source": [
    "def game(x):\n",
    "    x= [i.capitalize() for i in x]    # making all the outcomes to capital to avoid unnecessary errors in counting\n",
    "\n",
    "    print(\"points of john\", x.count('T'))    #counting tails\n",
    "    print(\"points of tom\", x.count('H'))    #counting heads\n",
    "    \n",
    "x=[]    # empty list to hold the outcomes\n",
    "for i in range(10):\n",
    "    x.append(input (\"Enter the outcome of coin tosses: \"))    # saving the outcomes in x\n",
    "\n",
    "game(x)    #calling game function"
   ]
  },
  {
   "cell_type": "code",
   "execution_count": null,
   "id": "57937b1c",
   "metadata": {},
   "outputs": [],
   "source": []
  },
  {
   "cell_type": "markdown",
   "id": "4a6dc391",
   "metadata": {
    "id": "4a6dc391"
   },
   "source": [
    "#### 6. Take two numbers as input and print the result after swapping them. (Without using multiple assignment and any extra variable)."
   ]
  },
  {
   "cell_type": "code",
   "execution_count": 12,
   "id": "oiSoXznqZbC_",
   "metadata": {
    "id": "oiSoXznqZbC_"
   },
   "outputs": [
    {
     "name": "stdin",
     "output_type": "stream",
     "text": [
      "Enter first number:  90\n",
      "Enter second number:  30\n"
     ]
    },
    {
     "name": "stdout",
     "output_type": "stream",
     "text": [
      "Entered numbers are 90 and 30\n",
      "After swapping numbers are 30 and 90\n"
     ]
    }
   ],
   "source": [
    "a= int(input(\"Enter first number: \"))    #takes input\n",
    "b= int(input(\"Enter second number: \"))\n",
    "\n",
    "print(\"Entered numbers are\", a,'and',b)    #prints the entered number say 10,20\n",
    "\n",
    "b+=a    # b becomes b+a= say 30\n",
    "a=b-a   # a becomes 30-10 ---> 20\n",
    "b=b-a   # b becomes 30-20 ---> 10\n",
    "\n",
    "print(\"After swapping numbers are\", a,'and',b)"
   ]
  },
  {
   "cell_type": "code",
   "execution_count": null,
   "id": "c1c88acb-1e93-4ea3-864d-b66f6ca0161b",
   "metadata": {},
   "outputs": [],
   "source": []
  },
  {
   "cell_type": "code",
   "execution_count": null,
   "id": "16951794",
   "metadata": {},
   "outputs": [],
   "source": []
  },
  {
   "cell_type": "markdown",
   "id": "b0059e36",
   "metadata": {
    "id": "b0059e36"
   },
   "source": [
    "#### 7. Take a list as input in a single line containing 10 numbers as marks out of 100. The even positions in the list are marks of Tom and the odd positions are the marks of Jon. Calculate the average marks of both."
   ]
  },
  {
   "cell_type": "code",
   "execution_count": 81,
   "id": "dzK-bSIM6rh6",
   "metadata": {
    "id": "dzK-bSIM6rh6"
   },
   "outputs": [
    {
     "name": "stdout",
     "output_type": "stream",
     "text": [
      "Enter 10 marks with space between them 34 56 66 45 65 76 45 65 45 65\n",
      "Average marks of Tom: 51.0\n",
      "Average marks of Jon: 61.4\n"
     ]
    }
   ],
   "source": [
    "def avrg(x):\n",
    "    j=0\n",
    "    t=0\n",
    "    for i in range (len(x)):\n",
    "        if i%2==0:\n",
    "            t= t+ x[i]    # adds the numbers at even index\n",
    "        \n",
    "        else:\n",
    "            j= j+x[i]    # adds the numbers at odd index\n",
    "    \n",
    "    print(\"Average marks of Tom:\", (t/(len(x)/2)))    #prints the average\n",
    "    print(\"Average marks of Jon:\", (j/(len(x)/2)))\n",
    "\n",
    "x= input(\"Enter 10 marks with space between them \").split()    #takes number input as string\n",
    "a= [int(i) for i in x]    #type casting\n",
    "\n",
    "avrg(a)    #calls avrg function"
   ]
  },
  {
   "cell_type": "markdown",
   "id": "f07dab7c",
   "metadata": {
    "id": "f07dab7c"
   },
   "source": [
    "#### 8. Take a string and a character as input. Print the result having the character between each word of the given string."
   ]
  },
  {
   "cell_type": "code",
   "execution_count": 36,
   "id": "Bak8JEWdAAFv",
   "metadata": {
    "id": "Bak8JEWdAAFv"
   },
   "outputs": [
    {
     "name": "stdout",
     "output_type": "stream",
     "text": [
      "Enter a string: Hi I am aman\n",
      "Enter a character: +\n",
      "Hi+I+am+aman\n"
     ]
    }
   ],
   "source": [
    "x=input(\"Enter a string: \").split()    #takes the input as string and makes list of words\n",
    "c= input(\"Enter a character: \")    # character as input\n",
    "\n",
    "print(c.join(x))    #joins using character"
   ]
  },
  {
   "cell_type": "code",
   "execution_count": null,
   "id": "80c20e8e",
   "metadata": {},
   "outputs": [],
   "source": []
  },
  {
   "cell_type": "markdown",
   "id": "a45320b7",
   "metadata": {
    "id": "a45320b7"
   },
   "source": [
    "#### 9. Create a dictionary having three items. Key of each item is the name of a student, value associated with each key is a list of marks in five subjects. Given this dictionary print the average score of each student."
   ]
  },
  {
   "cell_type": "code",
   "execution_count": 38,
   "id": "747156c0",
   "metadata": {},
   "outputs": [
    {
     "name": "stdout",
     "output_type": "stream",
     "text": [
      "Average score of aman is 59.4\n",
      "Average score of Sam is 66.8\n",
      "Average score of Jam is 55.8\n"
     ]
    }
   ],
   "source": [
    "d= {\n",
    "    'aman': {65, 63, 36, 47, 86},\n",
    "    'Sam': {36, 75, 83, 71, 69},\n",
    "    'Jam': {54, 43, 75, 56, 51}\n",
    "}\n",
    "\n",
    "for name in d:\n",
    "    avg=sum(d[name])/len(d[name])    #calculates average\n",
    "    print(f\"Average score of {name} is {avg}\")"
   ]
  },
  {
   "cell_type": "markdown",
   "id": "aba63bd1",
   "metadata": {
    "id": "aba63bd1"
   },
   "source": [
    "#### 10. Take a string as input(may contain repetitive words), print a list consisting of unique words from the given string."
   ]
  },
  {
   "cell_type": "code",
   "execution_count": 41,
   "id": "Wrc5hOBIF-ww",
   "metadata": {
    "id": "Wrc5hOBIF-ww"
   },
   "outputs": [
    {
     "name": "stdout",
     "output_type": "stream",
     "text": [
      "Enter a string: hi i am aman and hi i am arvind\n",
      "['arvind', 'am', 'hi', 'i', 'aman', 'and']\n"
     ]
    }
   ],
   "source": [
    "x=input(\"Enter a string: \").split()\n",
    "print(list(set(x)))    # convert x to set to get unique values and convert it back to list"
   ]
  },
  {
   "cell_type": "code",
   "execution_count": null,
   "id": "e6648bd4",
   "metadata": {},
   "outputs": [],
   "source": []
  }
 ],
 "metadata": {
  "colab": {
   "provenance": []
  },
  "kernelspec": {
   "display_name": "Python 3 (ipykernel)",
   "language": "python",
   "name": "python3"
  },
  "language_info": {
   "codemirror_mode": {
    "name": "ipython",
    "version": 3
   },
   "file_extension": ".py",
   "mimetype": "text/x-python",
   "name": "python",
   "nbconvert_exporter": "python",
   "pygments_lexer": "ipython3",
   "version": "3.9.13"
  }
 },
 "nbformat": 4,
 "nbformat_minor": 5
}
