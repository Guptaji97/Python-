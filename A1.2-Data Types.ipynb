{
 "cells": [
  {
   "cell_type": "markdown",
   "id": "5fad3b2a",
   "metadata": {
    "id": "5fad3b2a"
   },
   "source": [
    "# Assessment - 2 Gradable\n",
    "\n",
    "- Each question carries 3 marks\n",
    "- Marks will be assigned in terms of:\n",
    "    \n",
    "    **1. Expected output**\n",
    "    \n",
    "    **2. Quality and Explainability of code**\n",
    "\n",
    "    ***Go back through the script and type a comment above each line explaining in English what it does.***\n",
    "\n",
    "    **3. Copied code, if found, will result in 0 marks for that question. To avoid this make as much comments in the code to explain the approach**"
   ]
  },
  {
   "cell_type": "markdown",
   "id": "03363a58",
   "metadata": {
    "id": "03363a58"
   },
   "source": [
    "### 1.\n",
    "\n",
    "Write a Python program to perform following tasks on a list\n",
    "\n",
    "<ol>\n",
    "    <li>Create an empty list with name l1</li>\n",
    "    <li>Add atleast 5 number to the l1</li>\n",
    "    <li>Add 100 at 2<sup>nd</sup> position</li>\n",
    "    <li>Add 1000 at front of the l1</li>\n",
    "    <li>Delete element at 3<sup>rd</sup> position</li>\n",
    "    <li>Display elements at even position</li>\n",
    "    <li>Display elements in reverse order</li>\n",
    "</ol>"
   ]
  },
  {
   "cell_type": "code",
   "execution_count": 2,
   "id": "73d7418b",
   "metadata": {
    "id": "73d7418b"
   },
   "outputs": [
    {
     "name": "stdout",
     "output_type": "stream",
     "text": [
      "[1, 2, 3, 4, 5]\n",
      "[1, 100, 2, 3, 4, 5]\n",
      "[1000, 1, 100, 2, 3, 4, 5]\n",
      "[1000, 1, 2, 3, 4, 5]\n",
      "[1000, 2, 4]\n",
      "[5, 4, 3, 2, 1, 1000]\n"
     ]
    }
   ],
   "source": [
    "l1=[]\n",
    "l1.extend([1,2,3,4,5])\n",
    "print(l1)\n",
    "\n",
    "#index starts from 0. so index of 2nd position is 1\n",
    "l1.insert(1,100) #inserting 100 at index 1\n",
    "print(l1)\n",
    "\n",
    "l1.insert(0,1000)    #inserting 1000 at index 0\n",
    "print(l1)\n",
    "\n",
    "l1.pop(2)    # delete element at 3rd postion \n",
    "print(l1)\n",
    "\n",
    "print(l1[::2])    #slicing\n",
    "\n",
    "print(l1[::-1])"
   ]
  },
  {
   "cell_type": "markdown",
   "id": "3d5efe73",
   "metadata": {
    "id": "3d5efe73"
   },
   "source": [
    "### 2. \n",
    "\n",
    "Grab ``StarAgile`` from the following Dictionaries\n",
    "\n",
    "d_difficult = {'k1':[{'nest_key':['this is deep',['StarAgile']]}]}\n",
    "\n",
    "d_irritating = {'k1':[1,2,{'k2':['this is not easy',{'VeryIrriating':[1,2,['StarAgile']]}]}]}"
   ]
  },
  {
   "cell_type": "code",
   "execution_count": 3,
   "id": "9fb35ce9",
   "metadata": {
    "id": "9fb35ce9"
   },
   "outputs": [
    {
     "data": {
      "text/plain": [
       "{'nest_key': ['this is deep', ['StarAgile']]}"
      ]
     },
     "execution_count": 3,
     "metadata": {},
     "output_type": "execute_result"
    }
   ],
   "source": [
    "d_difficult = {'k1':[{'nest_key':['this is deep',['StarAgile']]}]}\n",
    "\n",
    "a=d_difficult['k1'][0]\n",
    "a    #which is again a dictionary"
   ]
  },
  {
   "cell_type": "code",
   "execution_count": 4,
   "id": "f3ea0fde",
   "metadata": {},
   "outputs": [
    {
     "data": {
      "text/plain": [
       "'StarAgile'"
      ]
     },
     "execution_count": 4,
     "metadata": {},
     "output_type": "execute_result"
    }
   ],
   "source": [
    "\n",
    "a['nest_key'][1][0]    # from dictionary access value at index 1"
   ]
  },
  {
   "cell_type": "code",
   "execution_count": 5,
   "id": "5af87306",
   "metadata": {},
   "outputs": [
    {
     "data": {
      "text/plain": [
       "'StarAgile'"
      ]
     },
     "execution_count": 5,
     "metadata": {},
     "output_type": "execute_result"
    }
   ],
   "source": [
    "d_irritating = {'k1':[1,2,{'k2':['this is not easy',{'VeryIrriating':[1,2,['StarAgile']]}]}]}\n",
    "\n",
    "d_irritating['k1'][2]['k2'][1]['VeryIrriating'][2][0]\n",
    "\n",
    "# first we obtained value of key 'k1' ehich is a list with 3 elements.\n",
    "# we need dictionary at index 2 and obtain element at index 1\n",
    "# now again we have a dictionary  whose value at index 2 contains our output\n",
    "\n"
   ]
  },
  {
   "cell_type": "code",
   "execution_count": null,
   "id": "8208f2b2",
   "metadata": {},
   "outputs": [],
   "source": []
  },
  {
   "cell_type": "markdown",
   "id": "0540a188",
   "metadata": {
    "id": "0540a188"
   },
   "source": [
    "### 3.\n",
    "\n",
    "Write a program to accept a string from the user and display characters that are present at an even index number.\n",
    "\n",
    "For example, str = \"judgemental\" so you should display ‘j’, ‘d’, ‘e’, ‘e’, ‘t’, ‘l’."
   ]
  },
  {
   "cell_type": "code",
   "execution_count": 6,
   "id": "21f5b9dd",
   "metadata": {
    "id": "21f5b9dd",
    "scrolled": true
   },
   "outputs": [
    {
     "name": "stdin",
     "output_type": "stream",
     "text": [
      "Enter a string:  Judgemental\n"
     ]
    },
    {
     "name": "stdout",
     "output_type": "stream",
     "text": [
      "Entered string is:  Judgemental\n",
      "Output: ['J', 'd', 'e', 'e', 't', 'l']\n"
     ]
    }
   ],
   "source": [
    "a= input(\"Enter a string: \")    #input as a string\n",
    "print(\"Entered string is: \",a)    #displays the input string\n",
    "\n",
    "b=a[::2]    #slicing\n",
    "print(\"Output:\",[i for i in b])    #displays the sliced output"
   ]
  },
  {
   "cell_type": "code",
   "execution_count": null,
   "id": "2b68ad9e",
   "metadata": {},
   "outputs": [],
   "source": []
  },
  {
   "cell_type": "markdown",
   "id": "e0884cde",
   "metadata": {
    "id": "e0884cde"
   },
   "source": [
    "### 4. \n",
    "\n",
    "Convert the Float Value of '3.8' into Integer, Complex, Binary and Hexidecimal format"
   ]
  },
  {
   "cell_type": "code",
   "execution_count": 8,
   "id": "99555c16",
   "metadata": {
    "id": "99555c16"
   },
   "outputs": [],
   "source": [
    "x=3.8"
   ]
  },
  {
   "cell_type": "code",
   "execution_count": 9,
   "id": "e3006bc3",
   "metadata": {},
   "outputs": [
    {
     "data": {
      "text/plain": [
       "3"
      ]
     },
     "execution_count": 9,
     "metadata": {},
     "output_type": "execute_result"
    }
   ],
   "source": [
    "int(x)"
   ]
  },
  {
   "cell_type": "code",
   "execution_count": 10,
   "id": "70652b32",
   "metadata": {},
   "outputs": [
    {
     "data": {
      "text/plain": [
       "(3.8+0j)"
      ]
     },
     "execution_count": 10,
     "metadata": {},
     "output_type": "execute_result"
    }
   ],
   "source": [
    "complex(x)"
   ]
  },
  {
   "cell_type": "code",
   "execution_count": 11,
   "id": "b736c76e",
   "metadata": {},
   "outputs": [
    {
     "data": {
      "text/plain": [
       "'0x1.e666666666666p+1'"
      ]
     },
     "execution_count": 11,
     "metadata": {},
     "output_type": "execute_result"
    }
   ],
   "source": [
    "x.hex()"
   ]
  },
  {
   "cell_type": "code",
   "execution_count": 40,
   "id": "a1aa2b90",
   "metadata": {},
   "outputs": [
    {
     "name": "stdout",
     "output_type": "stream",
     "text": [
      "11.1100110011\n"
     ]
    }
   ],
   "source": [
    "#binary\n",
    "def cal(n):         #function for coverting float to binary\n",
    "    num= int(n)\n",
    "    frac= n-num\n",
    "    b_num=''\n",
    "    b_frac=''\n",
    "    \n",
    "    #integer part of number\n",
    "    while num>0:    #loop till number is not divisible by 2\n",
    "        rem= num%2    #remainder\n",
    "        num= num//2    #integer value of num/2\n",
    "        b_num+= str(rem)     #stores each remainder\n",
    "            \n",
    "    #fractional part of the number\n",
    "    for i in range (10):    #upto 10 values\n",
    "        frac= frac*2    # multiplies the fractional value by 2\n",
    "        bit= int(frac)    # stores integer part of frac\n",
    "        frac-=bit    # continue the operation with the vlaue after point\n",
    "\n",
    "        b_frac+= str(bit)\n",
    "    \n",
    "    \n",
    "    return(b_num[::-1]+'.'+b_frac)\n",
    "\n",
    "x_bin=cal(3.8)\n",
    "\n",
    "print(x_bin)"
   ]
  },
  {
   "cell_type": "code",
   "execution_count": null,
   "id": "01fb190c",
   "metadata": {},
   "outputs": [],
   "source": []
  },
  {
   "cell_type": "markdown",
   "id": "25187f2c",
   "metadata": {
    "id": "25187f2c"
   },
   "source": [
    "### 5. \n",
    "\n",
    "Write a program to accept five names from the user and store it in a Tuple 'T1'"
   ]
  },
  {
   "cell_type": "code",
   "execution_count": 8,
   "id": "7e9e98e3",
   "metadata": {
    "id": "7e9e98e3"
   },
   "outputs": [
    {
     "name": "stdout",
     "output_type": "stream",
     "text": [
      "Enter name 1\n"
     ]
    },
    {
     "name": "stdin",
     "output_type": "stream",
     "text": [
      " Aman\n"
     ]
    },
    {
     "name": "stdout",
     "output_type": "stream",
     "text": [
      "Enter name 2\n"
     ]
    },
    {
     "name": "stdin",
     "output_type": "stream",
     "text": [
      " ankit\n"
     ]
    },
    {
     "name": "stdout",
     "output_type": "stream",
     "text": [
      "Enter name 3\n"
     ]
    },
    {
     "name": "stdin",
     "output_type": "stream",
     "text": [
      " Kajal\n"
     ]
    },
    {
     "name": "stdout",
     "output_type": "stream",
     "text": [
      "Enter name 4\n"
     ]
    },
    {
     "name": "stdin",
     "output_type": "stream",
     "text": [
      " Ravi\n"
     ]
    },
    {
     "name": "stdout",
     "output_type": "stream",
     "text": [
      "Enter name 5\n"
     ]
    },
    {
     "name": "stdin",
     "output_type": "stream",
     "text": [
      " Shreyas\n"
     ]
    }
   ],
   "source": [
    "a=[]\n",
    "for i in range(1,6):\n",
    "    print(f\"Enter name\",i)\n",
    "    a.append(input())"
   ]
  },
  {
   "cell_type": "code",
   "execution_count": 9,
   "id": "e52d50f9",
   "metadata": {},
   "outputs": [
    {
     "name": "stdout",
     "output_type": "stream",
     "text": [
      "('Aman', 'ankit', 'Kajal', 'Ravi', 'Shreyas') \n",
      " <class 'tuple'>\n"
     ]
    }
   ],
   "source": [
    "t= tuple(a)\n",
    "print(t,\"\\n\", type(t))"
   ]
  },
  {
   "cell_type": "code",
   "execution_count": null,
   "id": "6f140b01",
   "metadata": {},
   "outputs": [],
   "source": []
  }
 ],
 "metadata": {
  "colab": {
   "provenance": []
  },
  "kernelspec": {
   "display_name": "Python 3 (ipykernel)",
   "language": "python",
   "name": "python3"
  },
  "language_info": {
   "codemirror_mode": {
    "name": "ipython",
    "version": 3
   },
   "file_extension": ".py",
   "mimetype": "text/x-python",
   "name": "python",
   "nbconvert_exporter": "python",
   "pygments_lexer": "ipython3",
   "version": "3.9.13"
  }
 },
 "nbformat": 4,
 "nbformat_minor": 5
}
